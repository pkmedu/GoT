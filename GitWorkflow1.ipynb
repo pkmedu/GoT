{
 "cells": [
  {
   "cell_type": "markdown",
   "id": "fbd1d945-7a6f-46f9-af8c-dfa4893057a4",
   "metadata": {},
   "source": [
    "#### Getting started"
   ]
  },
  {
   "cell_type": "code",
   "execution_count": null,
   "id": "80b1afff-2cbb-4cc4-b3db-60cd59417baf",
   "metadata": {},
   "outputs": [],
   "source": [
    "\n",
    "git init                    # Start tracking a folder\n",
    "git config --global user.name \"Your Name\"\n",
    "git config --global user.email \"email@example.com\""
   ]
  },
  {
   "cell_type": "markdown",
   "id": "590c3cb5-7780-4f1e-8023-81eeff37bb94",
   "metadata": {},
   "source": [
    "#### Start a new project"
   ]
  },
  {
   "cell_type": "code",
   "execution_count": null,
   "id": "468eb80e-94b4-4b16-a341-ee80801fac1e",
   "metadata": {},
   "outputs": [],
   "source": [
    "git init\n",
    "git add README.md\n",
    "git commit -m \"Initial commit\""
   ]
  },
  {
   "cell_type": "markdown",
   "id": "d1a35435-d28d-400a-a6be-fddb15260eca",
   "metadata": {},
   "source": [
    "#### Clone the repository (Example)"
   ]
  },
  {
   "cell_type": "code",
   "execution_count": null,
   "id": "151d5c83-4dc4-4222-b02a-92a7d991929a",
   "metadata": {},
   "outputs": [],
   "source": [
    "git clone https://github.com/pkmedu/stata-complex-surveys\n",
    "# Enter the directory\n",
    "cd stata-complex-surveys"
   ]
  },
  {
   "cell_type": "markdown",
   "id": "ba5787bf-5843-408f-aa17-8052e2096ce1",
   "metadata": {},
   "source": [
    "#### See what's inside the directory after cloning the repository"
   ]
  },
  {
   "cell_type": "code",
   "execution_count": null,
   "id": "24d449e2-511c-4137-b3a1-0247078a5e5a",
   "metadata": {},
   "outputs": [],
   "source": [
    "# See \n",
    "ls\n",
    "$ ls -la"
   ]
  },
  {
   "cell_type": "markdown",
   "id": "343e5d9b-c245-479e-8054-23869bb210e2",
   "metadata": {},
   "source": [
    "#### Checking history after cloning the repository (Example)"
   ]
  },
  {
   "cell_type": "code",
   "execution_count": null,
   "id": "0029e3c9-138c-4138-86f0-68e9385cfa11",
   "metadata": {},
   "outputs": [],
   "source": [
    "$ git log --oneline"
   ]
  },
  {
   "cell_type": "markdown",
   "id": "8c0aacd5-96fc-47b2-8d86-b02135c5ec24",
   "metadata": {},
   "source": [
    "#### Log output"
   ]
  },
  {
   "cell_type": "code",
   "execution_count": null,
   "id": "7dc452b9-89c0-4fad-8fb2-56a6487626da",
   "metadata": {},
   "outputs": [],
   "source": [
    "cd27589 (HEAD -> master, origin/master, origin/HEAD) Add files via upload\n",
    "8cf6fbe Add files via upload\n",
    "c01f2a9 Add files via upload\n",
    "ba13e4a Add files via upload\n",
    "8fb7879 Add files via upload\n",
    "096d261 Add files via upload\n",
    "94a9b4e Update README.md\n",
    "7779299 Update README.md\n",
    "48f0a04 Update README.md\n",
    "d3967e7 updated\n",
    "a9071db T2008L\n",
    "bc385cf T2008E\n",
    "90ad81f more do files\n",
    "f16ad3f Adding spd do files\n",
    "2424096 Adding do files\n",
    "822ed7b updated with new files\n",
    "dc4587d Initial commit"
   ]
  },
  {
   "cell_type": "markdown",
   "id": "952b4d47-9ccb-4a3c-9903-e43020f33205",
   "metadata": {},
   "source": [
    "#### Checking history:"
   ]
  },
  {
   "cell_type": "code",
   "execution_count": null,
   "id": "18160c96-9971-4f1e-a2ed-d12c7fbaa255",
   "metadata": {},
   "outputs": [],
   "source": [
    "git log                    # See commit history\n",
    "git log --oneline          # Compact history\n",
    "git diff                   # See unstaged changes\n",
    "git show <commit>          # See specific commit"
   ]
  },
  {
   "cell_type": "markdown",
   "id": "ccfd9d56-5a6c-44fa-a8af-c52ca06b5b9b",
   "metadata": {},
   "source": [
    "#### Checking history (Example)"
   ]
  },
  {
   "cell_type": "code",
   "execution_count": null,
   "id": "5ec2637c-ce6e-4d8a-bd07-4bf801f4a637",
   "metadata": {},
   "outputs": [],
   "source": [
    "muhuri@CCASTA-HWJP0G2 MINGW64 ~ (master)\n",
    "$ cd stata-complex-surveys\n",
    "\n",
    "muhuri@CCASTA-HWJP0G2 MINGW64 ~/stata-complex-surveys (master)\n",
    "$ git log --pretty=format:\"%an <%ae>\" | sort | uniq\n",
    "Muhuri <Pradip.Muhuri@ahrq.hhs.gov>\n",
    "Pradip Muhuri <pradip.k.muhuri@gmail.com>\n",
    "pkmedu <36583446+pkmedu@users.noreply.github.com>\n"
   ]
  },
  {
   "cell_type": "markdown",
   "id": "b6463b8d-9065-4bf5-9de6-46863a98c6c5",
   "metadata": {},
   "source": [
    "#### Checking history (Example)"
   ]
  },
  {
   "cell_type": "code",
   "execution_count": null,
   "id": "c5eef48d-cc72-4ad5-9608-6218b897b788",
   "metadata": {},
   "outputs": [],
   "source": [
    "muhuri@CCASTA-HWJP0G2 MINGW64 ~/stata-complex-surveys (master)\n",
    "$ git log --pretty=format:\"%an <%ae>\" | sort | uniq\n",
    "Muhuri <Pradip.Muhuri@ahrq.hhs.gov>\n",
    "Pradip Muhuri <pradip.k.muhuri@gmail.com>\n",
    "pkmedu <36583446+pkmedu@users.noreply.github.com>\n"
   ]
  },
  {
   "cell_type": "code",
   "execution_count": null,
   "id": "98a7b090-20dd-4ec9-a4ea-3b04d1476e37",
   "metadata": {},
   "outputs": [],
   "source": [
    "# Print entire file\n",
    "cat git_history.txt\n",
    "\n",
    "# Print with line numbers\n",
    "cat -n git_history.txt\n",
    "\n",
    "# View large files page by page\n",
    "less git_history.txt\n",
    "# (use 'q' to quit, space for next page)\n",
    "\n",
    "# Print specific lines\n",
    "head -10 git_history.txt    # First 10 lines\n",
    "tail -5 git_history.txt     # Last 5 lines"
   ]
  },
  {
   "cell_type": "code",
   "execution_count": null,
   "id": "014882d5-d6a8-4e6a-9496-e556761b4b86",
   "metadata": {},
   "outputs": [],
   "source": [
    "# See recent activity\n",
    "git log --oneline -10\n",
    "\n",
    "# See who maintains it\n",
    "muhuri@CCASTA-HWJP0G2 MINGW64 ~/stata-complex-surveys (master)\n",
    "$ git shortlog -sn\n",
    "    10  pkmedu\n",
    "     6  Pradip Muhuri\n",
    "     1  Muhuri\n"
   ]
  },
  {
   "cell_type": "markdown",
   "id": "8d6cf681-bab3-43d5-ade8-41b374da7db6",
   "metadata": {},
   "source": [
    "#### Undoing things"
   ]
  },
  {
   "cell_type": "code",
   "execution_count": null,
   "id": "2bb9de43-1053-4d83-9b56-4de263e09722",
   "metadata": {},
   "outputs": [],
   "source": [
    "git checkout -- <file>    # Discard changes to file\n",
    "git reset <file>           # Unstage file\n",
    "git reset --hard HEAD     # Discard all changes\n",
    "git revert <commit>        # Undo a commit safely"
   ]
  },
  {
   "cell_type": "markdown",
   "id": "6821538d-c67e-4b25-9c09-fc8598226a0d",
   "metadata": {},
   "source": [
    "#### Daily workflow"
   ]
  },
  {
   "cell_type": "code",
   "execution_count": null,
   "id": "2d2ac365-2f38-4977-a51f-3852b3eea7b6",
   "metadata": {},
   "outputs": [],
   "source": [
    "git status                 # See what's changed\n",
    "git add <file>             # Stage specific files\n",
    "git add .                  # Stage all changes\n",
    "git commit -m \"message\"    # Save changes with description\n",
    "git push                   # Upload to remote repository\n",
    "git pull                   # Download latest changes"
   ]
  },
  {
   "cell_type": "markdown",
   "id": "3e97a5c1-6dd9-4547-9ebd-f91e22774b64",
   "metadata": {},
   "source": [
    "#### Difference between \"git add  . \" and \"git add -A\"\n",
    "\n",
    "If you're working from your project root (which is typical), both commands do the same thing in modern Git. Use whichever you prefer, but \"git add .\" is more common.\n"
   ]
  },
  {
   "cell_type": "markdown",
   "id": "7e0a73e4-1ea7-45e6-a564-ac11186192de",
   "metadata": {},
   "source": [
    "#### What \"git checkout -b feature/login\" does:\n",
    "\n",
    "Two actions in one command:\n",
    "\n",
    "-Creates a new branch named feature/login\n",
    "\n",
    "-Switches to that new branch"
   ]
  },
  {
   "cell_type": "code",
   "execution_count": null,
   "id": "55d3f0d8-341f-441b-9dc1-e67c5bef36d0",
   "metadata": {},
   "outputs": [],
   "source": [
    "git branch feature/login     # Create the branch\n",
    "git checkout feature/login   # Switch to the branch"
   ]
  },
  {
   "cell_type": "code",
   "execution_count": null,
   "id": "be14b8c4-172f-40c7-85e8-cd162c8965ab",
   "metadata": {},
   "outputs": [],
   "source": [
    "$ git branch -a\n",
    "* master\n",
    "  remotes/origin/HEAD -> origin/master\n",
    "  remotes/origin/master\n"
   ]
  },
  {
   "cell_type": "code",
   "execution_count": null,
   "id": "d3a6bd18-7e0e-4407-a3e1-ed092a9a8196",
   "metadata": {},
   "outputs": [],
   "source": [
    "$ git branch          # See all branches, * shows current\n",
    "* master\n"
   ]
  },
  {
   "cell_type": "markdown",
   "id": "68cd73d8-2285-449c-8a52-621700f2a608",
   "metadata": {},
   "source": [
    "#### Finding Repository Information - what remote repositories am I connected to? (Example)\n"
   ]
  },
  {
   "cell_type": "code",
   "execution_count": null,
   "id": "605cbd4d-eb3b-4f1f-9637-3c08069bde00",
   "metadata": {},
   "outputs": [],
   "source": [
    "$ git remote -v\n",
    "origin  https://github.com/pkmedu/stata-complex-surveys (fetch)\n",
    "origin  https://github.com/pkmedu/stata-complex-surveys (push)\n"
   ]
  },
  {
   "cell_type": "code",
   "execution_count": null,
   "id": "410973d1-8989-4756-bfef-a07ca03978fe",
   "metadata": {},
   "outputs": [],
   "source": [
    "git push\n",
    "# Git automatically knows where to push based on your current branch settings"
   ]
  },
  {
   "cell_type": "code",
   "execution_count": null,
   "id": "d80ba65b-0d5f-474a-8dea-2c3fe32dba89",
   "metadata": {},
   "outputs": [],
   "source": [
    "git push origin master\n",
    "# Clearly states: push to the 'master' branch on the 'origin' remote"
   ]
  },
  {
   "cell_type": "markdown",
   "id": "d198f29d-290d-4e9d-9858-33f0d17c4d86",
   "metadata": {},
   "source": [
    "\n",
    "You'd use git checkout -b feature/login when you want to create a new branch called \"feature/login\" and immediately switch to it."
   ]
  },
  {
   "cell_type": "code",
   "execution_count": null,
   "id": "5cfbf638-96fa-4f50-8ee0-bffb5c242f5b",
   "metadata": {},
   "outputs": [],
   "source": [
    "# Your branch is set up to track a remote branch\n",
    "git checkout -b feature/login\n",
    "git push -u origin feature/login  # The -u sets up tracking\n",
    "# Now you can just use:\n",
    "git push  # Git knows to push to origin/feature/login"
   ]
  },
  {
   "cell_type": "markdown",
   "id": "7af81aac-8e87-4e51-945c-2e18d1f371f9",
   "metadata": {},
   "source": [
    "#### Real-world workflow example:"
   ]
  },
  {
   "cell_type": "code",
   "execution_count": null,
   "id": "fc9ac705-4ff7-477b-8ecc-c21e02a6a7fe",
   "metadata": {},
   "outputs": [],
   "source": [
    "# Start from main branch\n",
    "git checkout master\n",
    "git pull origin master\n",
    "\n",
    "# Create and switch to feature branch\n",
    "git checkout -b feature/login\n",
    "\n",
    "# Work on your feature\n",
    "# Edit files: LoginForm.js, login.css, etc.\n",
    "git add .\n",
    "git commit -m \"Add login form component\""
   ]
  },
  {
   "cell_type": "code",
   "execution_count": null,
   "id": "348237ce-3d99-4a4f-bbd3-7752903f898b",
   "metadata": {},
   "outputs": [],
   "source": [
    "# Save git log to a file\n",
    "git log --oneline > git_history.txt\n",
    "\n",
    "# Save git status to a file\n",
    "git status > project_status.txt\n",
    "\n",
    "# Save branch information\n",
    "git branch -a > branches.txt"
   ]
  },
  {
   "cell_type": "markdown",
   "id": "52e8b112-d630-496b-a7ef-7cc5c235916b",
   "metadata": {},
   "source": [
    "#### Delete a folder from Git tracking (but keep it locally)\n"
   ]
  },
  {
   "cell_type": "code",
   "execution_count": null,
   "id": "7f768314-37fe-45fe-94be-fb0d76634bea",
   "metadata": {},
   "outputs": [],
   "source": [
    "git rm -r --cached folder_name\n",
    "git commit -m \"Remove folder from tracking\""
   ]
  },
  {
   "cell_type": "markdown",
   "id": "8487579b-cf82-4394-a0ba-670b9f9b96c4",
   "metadata": {},
   "source": [
    "#### Delete a folder completely (from both Git and local filesystem)"
   ]
  },
  {
   "cell_type": "code",
   "execution_count": null,
   "id": "d80a1b61-2e03-48eb-b943-3875741ad72c",
   "metadata": {},
   "outputs": [],
   "source": [
    "git rm -r folder_name\n",
    "git commit -m \"Delete folder completely\""
   ]
  },
  {
   "cell_type": "markdown",
   "id": "dcc4a619-c002-44eb-97b5-b2b4a1637978",
   "metadata": {},
   "source": [
    "#### Remove from Git but keep locally (useful for build folders, logs, etc.):"
   ]
  },
  {
   "cell_type": "code",
   "execution_count": null,
   "id": "b7ba1a73-0e92-463b-b981-bbd4066cdcc1",
   "metadata": {},
   "outputs": [],
   "source": [
    "git rm -r --cached build/\n",
    "echo \"build/\" >> .gitignore\n",
    "git add .gitignore\n",
    "git commit -m \"Stop tracking build folder\""
   ]
  },
  {
   "cell_type": "markdown",
   "id": "bedb427e-b0d0-4a6c-b834-0be59f448c47",
   "metadata": {},
   "source": [
    "##### The key flags (above):\n",
    "\n",
    "* -r = recursive (for folders)\n",
    "* --cached = only remove from Git index, keep local files\n",
    "* Without --cached = remove from both Git and filesystem"
   ]
  },
  {
   "cell_type": "markdown",
   "id": "6ab94886-43d8-493c-9abe-d2d0f3744a92",
   "metadata": {},
   "source": [
    "#### Git Credentials: Check stored Git credentials (Example)"
   ]
  },
  {
   "cell_type": "code",
   "execution_count": null,
   "id": "718d4c96-a3b0-4980-8afa-fe3863b3279c",
   "metadata": {},
   "outputs": [],
   "source": [
    "$ git config --global --list\n",
    "user.name=pkmedu\n",
    "user.email=Pradip.k.muhuri@gmail.com\n",
    "\n",
    "$ git config --list | grep user\n",
    "user.name=pkmedu\n",
    "user.email=Pradip.k.muhuri@gmail.com"
   ]
  },
  {
   "cell_type": "markdown",
   "id": "db538745-95fc-4ff5-94d0-1414a06debb3",
   "metadata": {},
   "source": [
    "#### Summary"
   ]
  },
  {
   "cell_type": "markdown",
   "id": "438cfd3f-f5ec-408a-a7dd-14db137d532e",
   "metadata": {},
   "source": [
    "\n",
    "##### Stage files before you can commit:\n",
    "\n",
    "git add \n",
    "\n",
    "##### Create commits before you can push:\n",
    "\n",
    "git commit \n",
    "\n",
    "##### Switch branches before you can merge: \n",
    "\n",
    "git checkout \n",
    "\n",
    "##### Set up remote before you can pull: \n",
    "\n",
    "git remote\n",
    "\n",
    "##### Have a repository before you can branch: \n",
    "\n",
    "git init\n",
    "\n",
    "git clone "
   ]
  }
 ],
 "metadata": {
  "kernelspec": {
   "display_name": "Python [conda env:base] *",
   "language": "python",
   "name": "conda-base-py"
  },
  "language_info": {
   "codemirror_mode": {
    "name": "ipython",
    "version": 3
   },
   "file_extension": ".py",
   "mimetype": "text/x-python",
   "name": "python",
   "nbconvert_exporter": "python",
   "pygments_lexer": "ipython3",
   "version": "3.12.7"
  }
 },
 "nbformat": 4,
 "nbformat_minor": 5
}
