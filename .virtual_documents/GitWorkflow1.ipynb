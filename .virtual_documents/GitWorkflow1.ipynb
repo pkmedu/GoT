



git init                    # Start tracking a folder
git config --global user.name "Your Name"
git config --global user.email "email@example.com"





git init
git add README.md
git commit -m "Initial commit"





git clone https://github.com/pkmedu/stata-complex-surveys
# Enter the directory
cd stata-complex-surveys





# See 
ls
$ ls -la





$ git log --oneline





cd27589 (HEAD -> master, origin/master, origin/HEAD) Add files via upload
8cf6fbe Add files via upload
c01f2a9 Add files via upload
ba13e4a Add files via upload
8fb7879 Add files via upload
096d261 Add files via upload
94a9b4e Update README.md
7779299 Update README.md
48f0a04 Update README.md
d3967e7 updated
a9071db T2008L
bc385cf T2008E
90ad81f more do files
f16ad3f Adding spd do files
2424096 Adding do files
822ed7b updated with new files
dc4587d Initial commit





git log                    # See commit history
git log --oneline          # Compact history
git diff                   # See unstaged changes
git show <commit>          # See specific commit





muhuri@CCASTA-HWJP0G2 MINGW64 ~ (master)
$ cd stata-complex-surveys

muhuri@CCASTA-HWJP0G2 MINGW64 ~/stata-complex-surveys (master)
$ git log --pretty=format:"%an <%ae>" | sort | uniq
Muhuri <Pradip.Muhuri@ahrq.hhs.gov>
Pradip Muhuri <pradip.k.muhuri@gmail.com>
pkmedu <36583446+pkmedu@users.noreply.github.com>






muhuri@CCASTA-HWJP0G2 MINGW64 ~/stata-complex-surveys (master)
$ git log --pretty=format:"%an <%ae>" | sort | uniq
Muhuri <Pradip.Muhuri@ahrq.hhs.gov>
Pradip Muhuri <pradip.k.muhuri@gmail.com>
pkmedu <36583446+pkmedu@users.noreply.github.com>



# Print entire file
cat git_history.txt

# Print with line numbers
cat -n git_history.txt

# View large files page by page
less git_history.txt
# (use 'q' to quit, space for next page)

# Print specific lines
head -10 git_history.txt    # First 10 lines
tail -5 git_history.txt     # Last 5 lines


# See recent activity
git log --oneline -10

# See who maintains it
muhuri@CCASTA-HWJP0G2 MINGW64 ~/stata-complex-surveys (master)
$ git shortlog -sn
    10  pkmedu
     6  Pradip Muhuri
     1  Muhuri






git checkout -- <file>    # Discard changes to file
git reset <file>           # Unstage file
git reset --hard HEAD     # Discard all changes
git revert <commit>        # Undo a commit safely





git status                 # See what's changed
git add <file>             # Stage specific files
git add .                  # Stage all changes
git commit -m "message"    # Save changes with description
git push                   # Upload to remote repository
git pull                   # Download latest changes








git branch feature/login     # Create the branch
git checkout feature/login   # Switch to the branch


$ git branch -a
* master
  remotes/origin/HEAD -> origin/master
  remotes/origin/master



$ git branch          # See all branches, * shows current
* master






$ git remote -v
origin  https://github.com/pkmedu/stata-complex-surveys (fetch)
origin  https://github.com/pkmedu/stata-complex-surveys (push)



git push
# Git automatically knows where to push based on your current branch settings


git push origin master
# Clearly states: push to the 'master' branch on the 'origin' remote





# Your branch is set up to track a remote branch
git checkout -b feature/login
git push -u origin feature/login  # The -u sets up tracking
# Now you can just use:
git push  # Git knows to push to origin/feature/login





# Start from main branch
git checkout master
git pull origin master

# Create and switch to feature branch
git checkout -b feature/login

# Work on your feature
# Edit files: LoginForm.js, login.css, etc.
git add .
git commit -m "Add login form component"


# Save git log to a file
git log --oneline > git_history.txt

# Save git status to a file
git status > project_status.txt

# Save branch information
git branch -a > branches.txt





git rm -r --cached folder_name
git commit -m "Remove folder from tracking"





git rm -r folder_name
git commit -m "Delete folder completely"





git rm -r --cached build/
echo "build/" >> .gitignore
git add .gitignore
git commit -m "Stop tracking build folder"








$ git config --global --list
user.name=pkmedu
user.email=Pradip.k.muhuri@gmail.com

$ git config --list | grep user
user.name=pkmedu
user.email=Pradip.k.muhuri@gmail.com






